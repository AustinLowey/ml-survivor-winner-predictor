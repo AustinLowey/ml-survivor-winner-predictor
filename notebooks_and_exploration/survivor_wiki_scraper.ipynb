{
 "cells": [
  {
   "cell_type": "code",
   "execution_count": 3,
   "metadata": {},
   "outputs": [],
   "source": [
    "from bs4 import BeautifulSoup\n",
    "import requests\n",
    "import pandas as pd\n",
    "import psycopg2 as pg2"
   ]
  },
  {
   "cell_type": "code",
   "execution_count": 44,
   "metadata": {},
   "outputs": [],
   "source": [
    "### Contestant Page ###\n",
    "\n",
    "contestant_url = 'https://survivor.fandom.com/wiki/Julie_Alley'\n",
    "contestant_url = 'https://survivor.fandom.com/wiki/Rupert_Boneham'\n",
    "response = requests.get(contestant_url)\n",
    "web_page = response.content\n",
    "contestant_soup = BeautifulSoup(web_page, 'html.parser')"
   ]
  },
  {
   "cell_type": "code",
   "execution_count": 45,
   "metadata": {},
   "outputs": [
    {
     "name": "stdout",
     "output_type": "stream",
     "text": [
      "4\n",
      "Rupert Boneham\n",
      "Rupert Fredrick Boneham is a contestant from Survivor: Pearl Islands, Survivor: All-Stars, Survivor: Heroes vs. Villains, and Survivor: Blood vs. Water. In Pearl Islands, Rupert won the hearts of fans with his colorful personality, as he showcased a grizzled, piratical persona that melded well...\n",
      "11\n"
     ]
    }
   ],
   "source": [
    "### Contestant Soup Processing ###\n",
    "\n",
    "# Find number of seasons contestant played. I.e., # of <nav> elements with below class and attrs\n",
    "nav_elements = contestant_soup.find_all('nav', class_='pi-navigation', attrs={'data-item-name': 'season'})\n",
    "num_seasons = len(nav_elements)\n",
    "\n",
    "if num_seasons > 1: # Data is in different spot on web page. May just manually sort for these cases.\n",
    "    description, challenge_wins = None, None\n",
    "else:\n",
    "    # Find and extract content from 'description' meta tag\n",
    "    description_tag = contestant_soup.find('meta', attrs={'name': 'description'})\n",
    "    if description_tag:\n",
    "        description = description_tag.get('content')\n",
    "    else:\n",
    "        description = None\n",
    "\n",
    "    # Find and extract challenge wins\n",
    "    challenge_wins_tag = contestant_soup.find('div', {'data-source': 'challenges'})\n",
    "    if challenge_wins_tag:\n",
    "        challenge_wins = challenge_wins_tag.find('div', class_='pi-data-value pi-font').text.strip()\n",
    "    else:\n",
    "        challenge_wins = None\n",
    "\n",
    "print(num_seasons)\n",
    "print(description)\n",
    "print(challenge_wins)"
   ]
  },
  {
   "cell_type": "code",
   "execution_count": 17,
   "metadata": {},
   "outputs": [],
   "source": [
    "### Season Page ###\n",
    "\n",
    "url = 'https://survivor.fandom.com/wiki/Survivor_45'\n",
    "response = requests.get(url)\n",
    "web_page = response.content\n",
    "soup = BeautifulSoup(web_page, 'html.parser')"
   ]
  },
  {
   "cell_type": "code",
   "execution_count": 38,
   "metadata": {},
   "outputs": [
    {
     "name": "stdout",
     "output_type": "stream",
     "text": [
      "                 name                                          wiki_link  \\\n",
      "0         Hannah Rose       https://survivor.fandom.com/wiki/Hannah_Rose   \n",
      "1      Brandon Donlon    https://survivor.fandom.com/wiki/Brandon_Donlon   \n",
      "2   Sabiyah Broderick  https://survivor.fandom.com/wiki/Sabiyah_Brode...   \n",
      "3        Sean Edwards      https://survivor.fandom.com/wiki/Sean_Edwards   \n",
      "4        Brando Meyer      https://survivor.fandom.com/wiki/Brando_Meyer   \n",
      "5             J. Maya           https://survivor.fandom.com/wiki/J._Maya   \n",
      "6          Sifu Alsup        https://survivor.fandom.com/wiki/Sifu_Alsup   \n",
      "7     Kaleb Gebrewold   https://survivor.fandom.com/wiki/Kaleb_Gebrewold   \n",
      "8   Kellie Nalbandian  https://survivor.fandom.com/wiki/Kellie_Nalban...   \n",
      "9    Kendra McQuarrie  https://survivor.fandom.com/wiki/Kendra_McQuarrie   \n",
      "10    Bruce Perreault   https://survivor.fandom.com/wiki/Bruce_Perreault   \n",
      "11      Emily Flippen     https://survivor.fandom.com/wiki/Emily_Flippen   \n",
      "12        Drew Basile       https://survivor.fandom.com/wiki/Drew_Basile   \n",
      "13        Julie Alley       https://survivor.fandom.com/wiki/Julie_Alley   \n",
      "14      Katurah Topps     https://survivor.fandom.com/wiki/Katurah_Topps   \n",
      "15        Jake O'Kane     https://survivor.fandom.com/wiki/Jake_O%27Kane   \n",
      "16     Austin Li Coon    https://survivor.fandom.com/wiki/Austin_Li_Coon   \n",
      "17     Dee Valladares    https://survivor.fandom.com/wiki/Dee_Valladares   \n",
      "\n",
      "   other_seasons  \n",
      "0           None  \n",
      "1           None  \n",
      "2           None  \n",
      "3           None  \n",
      "4           None  \n",
      "5           None  \n",
      "6           None  \n",
      "7           None  \n",
      "8           None  \n",
      "9           None  \n",
      "10   Survivor 44  \n",
      "11          None  \n",
      "12          None  \n",
      "13          None  \n",
      "14          None  \n",
      "15          None  \n",
      "16          None  \n",
      "17          None  \n"
     ]
    }
   ],
   "source": [
    "# Initialize an empty list to hold the contestant details\n",
    "contestant_details = []\n",
    "\n",
    "# Find the table\n",
    "table = soup.find('table', {'class': 'wikitable sortable'})\n",
    "\n",
    "# Iterate through each row in the table, skipping the header row(s)\n",
    "for row in table.find_all('tr')[2:]:  # Adjusted to skip the first two header rows\n",
    "    cells = row.find_all('td')\n",
    "    if cells:  # Check if there are any cells in the row to avoid header rows\n",
    "        # Extract the first link in the second cell (index 1) of each row\n",
    "        link_tag = cells[1].find('a', href=True)\n",
    "        if link_tag:  # Check if a link exists\n",
    "            # Extract the contestant name from the text of the first link in the second cell (index 1) of each row\n",
    "            name_tag = cells[1].find('a', href=True)\n",
    "            name = name_tag.text if name_tag else None  # Use .text to get the link text, which is the name\n",
    "            \n",
    "            link = name_tag['href'] if name_tag else None\n",
    "            full_link = f\"https://survivor.fandom.com{link}\" if link else None\n",
    "            \n",
    "            # Initialize other_seasons with None\n",
    "            other_seasons = None\n",
    "            \n",
    "            # Check for an additional season link within an <i> tag\n",
    "            other_seasons_tag = cells[1].find('i').find('a', title=True) if cells[1].find('i') else None\n",
    "            if other_seasons_tag:\n",
    "                other_seasons = other_seasons_tag['title']\n",
    "            \n",
    "            # Append the details to the list\n",
    "            contestant_details.append({'name': name, \"wiki_link\": full_link, \"other_seasons\": other_seasons})\n",
    "\n",
    "# Create a DataFrame from the list\n",
    "df_contestants = pd.DataFrame(contestant_details)\n",
    "\n",
    "# Display or save the DataFrame\n",
    "print(df_contestants)"
   ]
  },
  {
   "cell_type": "code",
   "execution_count": 35,
   "metadata": {},
   "outputs": [
    {
     "name": "stdout",
     "output_type": "stream",
     "text": [
      "Table seasons.season_45_contestants created successfully.\n"
     ]
    }
   ],
   "source": [
    "# Connect and create cursor\n",
    "conn = pg2.connect(database='survivor', user='postgres', password='password')\n",
    "cur = conn.cursor()\n",
    "\n",
    "season_number = 45\n",
    "table_name = f\"seasons.season_{season_number}_contestants\"\n",
    "\n",
    "# SQL query to create the table\n",
    "create_table_query = f\"\"\"\n",
    "CREATE TABLE {table_name} (\n",
    "    id SERIAL PRIMARY KEY,\n",
    "    contestant_name VARCHAR(255),\n",
    "    contestant_link VARCHAR(255),\n",
    "    other_seasons VARCHAR(255)\n",
    ");\n",
    "\"\"\"\n",
    "\n",
    "try:\n",
    "    cur.execute(create_table_query)\n",
    "    conn.commit()  # Commit the transaction\n",
    "    print(f\"Table {table_name} created successfully.\")\n",
    "except Exception as e:\n",
    "    print(f\"An error occurred: {e}\")\n",
    "finally:\n",
    "    cur.close()\n",
    "    conn.close()"
   ]
  },
  {
   "cell_type": "code",
   "execution_count": 4,
   "metadata": {},
   "outputs": [],
   "source": [
    "### Main Survivor Page ###\n",
    "\n",
    "url = 'https://survivor.fandom.com/wiki/Survivor_(U.S.)'\n",
    "response = requests.get(url)\n",
    "web_page = response.content\n",
    "soup = BeautifulSoup(web_page, 'html.parser')"
   ]
  },
  {
   "cell_type": "code",
   "execution_count": 31,
   "metadata": {},
   "outputs": [
    {
     "name": "stdout",
     "output_type": "stream",
     "text": [
      "['https://survivor.fandom.com/wiki/Survivor:_Borneo', 'https://survivor.fandom.com/wiki/Survivor:_The_Australian_Outback', 'https://survivor.fandom.com/wiki/Survivor:_Africa', 'https://survivor.fandom.com/wiki/Survivor:_Marquesas', 'https://survivor.fandom.com/wiki/Survivor:_Thailand', 'https://survivor.fandom.com/wiki/Survivor:_The_Amazon', 'https://survivor.fandom.com/wiki/Survivor:_Pearl_Islands', 'https://survivor.fandom.com/wiki/Survivor:_All-Stars', 'https://survivor.fandom.com/wiki/Survivor:_Vanuatu', 'https://survivor.fandom.com/wiki/Survivor:_Palau', 'https://survivor.fandom.com/wiki/Survivor:_Guatemala', 'https://survivor.fandom.com/wiki/Survivor:_Panama', 'https://survivor.fandom.com/wiki/Survivor:_Cook_Islands', 'https://survivor.fandom.com/wiki/Survivor:_Fiji', 'https://survivor.fandom.com/wiki/Survivor:_China', 'https://survivor.fandom.com/wiki/Survivor:_Micronesia', 'https://survivor.fandom.com/wiki/Survivor:_Gabon', 'https://survivor.fandom.com/wiki/Survivor:_Tocantins', 'https://survivor.fandom.com/wiki/Survivor:_Samoa', 'https://survivor.fandom.com/wiki/Survivor:_Heroes_vs._Villains', 'https://survivor.fandom.com/wiki/Survivor:_Nicaragua', 'https://survivor.fandom.com/wiki/Survivor:_Redemption_Island', 'https://survivor.fandom.com/wiki/Survivor:_South_Pacific', 'https://survivor.fandom.com/wiki/Survivor:_One_World', 'https://survivor.fandom.com/wiki/Survivor:_Philippines', 'https://survivor.fandom.com/wiki/Survivor:_Caramoan', 'https://survivor.fandom.com/wiki/Survivor:_Blood_vs._Water', 'https://survivor.fandom.com/wiki/Survivor:_Cagayan', 'https://survivor.fandom.com/wiki/Survivor:_San_Juan_del_Sur', 'https://survivor.fandom.com/wiki/Survivor:_Worlds_Apart', 'https://survivor.fandom.com/wiki/Survivor:_Cambodia', 'https://survivor.fandom.com/wiki/Survivor:_Ka%C3%B4h_R%C5%8Dng', 'https://survivor.fandom.com/wiki/Survivor:_Millennials_vs._Gen_X', 'https://survivor.fandom.com/wiki/Survivor:_Game_Changers', 'https://survivor.fandom.com/wiki/Survivor:_Heroes_vs._Healers_vs._Hustlers', 'https://survivor.fandom.com/wiki/Survivor:_Ghost_Island', 'https://survivor.fandom.com/wiki/Survivor:_David_vs._Goliath', 'https://survivor.fandom.com/wiki/Survivor:_Edge_of_Extinction', 'https://survivor.fandom.com/wiki/Survivor:_Island_of_the_Idols', 'https://survivor.fandom.com/wiki/Survivor:_Winners_at_War', 'https://survivor.fandom.com/wiki/Survivor_41', 'https://survivor.fandom.com/wiki/Survivor_42', 'https://survivor.fandom.com/wiki/Survivor_43', 'https://survivor.fandom.com/wiki/Survivor_44', 'https://survivor.fandom.com/wiki/Survivor_45']\n",
      "45\n"
     ]
    }
   ],
   "source": [
    "# Find the table - assuming it's the first \"wikitable\" on the page\n",
    "table = soup.find(\"table\", {\"class\": \"wikitable\"})\n",
    "\n",
    "# Initialize a list to store the extracted data\n",
    "season_links = []\n",
    "\n",
    "# Iterate over each row in the table, skipping the header row\n",
    "for row in table.find_all(\"tr\")[1:]:\n",
    "    cells = row.find_all(\"td\")\n",
    "    \n",
    "    if cells:  # Check if there are cells in the row to avoid processing header/empty rows\n",
    "        season_link_tag = cells[0].find(\"a\")\n",
    "        season_link = \"https://survivor.fandom.com\" + season_link_tag.get(\"href\")\n",
    "        \n",
    "        # Append the extracted information to the list\n",
    "        season_links.append(season_link)\n",
    "\n",
    "print(season_links)\n",
    "print(len(season_links))\n",
    "\n"
   ]
  },
  {
   "cell_type": "code",
   "execution_count": 25,
   "metadata": {},
   "outputs": [
    {
     "name": "stdout",
     "output_type": "stream",
     "text": [
      "[<td><a href=\"/wiki/Survivor:_Borneo\" title=\"Survivor: Borneo\"><img alt=\"Borneo\" class=\"lazyload\" data-image-key=\"Borneo.png\" data-image-name=\"Borneo.png\" data-relevant=\"1\" data-src=\"https://static.wikia.nocookie.net/survivor/images/f/f5/Borneo.png/revision/latest/scale-to-width-down/100?cb=20180424232521\" decoding=\"async\" height=\"64\" loading=\"lazy\" src=\"data:image/gif;base64,R0lGODlhAQABAIABAAAAAP///yH5BAEAAAEALAAAAAABAAEAQAICTAEAOw%3D%3D\" width=\"100\"/></a><br/><i><a href=\"/wiki/Survivor:_Borneo\" title=\"Survivor: Borneo\">Borneo</a></i>\n",
      "</td>, <td><a href=\"/wiki/Pagong\" title=\"Pagong\"><font style=\"bordercolor:background:#ffff00; color:black; background:#ffff00; color:black; border-radius:3px; padding:2px;\">Pagong</font></a><br/><a href=\"/wiki/Tagi\" title=\"Tagi\"><font style=\"bordercolor:background:#ff8033; color:black; background:#ff8033; color:black; border-radius:3px; padding:2px;\">Tagi</font></a><br/><a href=\"/wiki/Rattana\" title=\"Rattana\"><font style=\"bordercolor:background:#99ff33; color:black; background:#99ff33; color:black; border-radius:3px; padding:2px;\">Rattana</font></a>\n",
      "</td>, <td>16\n",
      "</td>, <td><a class=\"extiw\" href=\"http://en.wikipedia.org/wiki/Tiga_Island,_Malaysia\" title=\"wikipedia:Tiga Island, Malaysia\">Pulau Tiga</a>, <a class=\"extiw\" href=\"http://en.wikipedia.org/wiki/Sabah\" title=\"wikipedia:Sabah\">Sabah</a>, <a class=\"extiw\" href=\"http://en.wikipedia.org/wiki/Borneo\" title=\"wikipedia:Borneo\">Borneo</a>, <a class=\"extiw\" href=\"http://en.wikipedia.org/wiki/Malaysia\" title=\"wikipedia:Malaysia\">Malaysia</a>\n",
      "</td>, <td>March 13, 2000 - April 20, 2000\n",
      "</td>, <td>May 31, 2000 - August 23, 2000\n",
      "</td>, <td><span style=\"white-space:nowrap;\"><a href=\"/wiki/Richard_Hatch\" title=\"Richard Hatch\"><img alt=\"S1 richard t\" class=\"lazyload\" data-image-key=\"S1_richard_t.png\" data-image-name=\"S1 richard t.png\" data-relevant=\"0\" data-src=\"https://static.wikia.nocookie.net/survivor/images/2/2f/S1_richard_t.png/revision/latest/scale-to-width-down/60?cb=20180525202231\" decoding=\"async\" height=\"60\" loading=\"lazy\" src=\"data:image/gif;base64,R0lGODlhAQABAIABAAAAAP///yH5BAEAAAEALAAAAAABAAEAQAICTAEAOw%3D%3D\" width=\"60\"/></a><br/><a href=\"/wiki/Richard_Hatch\" title=\"Richard Hatch\">Richard Hatch</a></span>\n",
      "</td>, <td>28.30<sup class=\"reference\" id=\"cite_ref-7\"><a href=\"#cite_note-7\">[7]</a></sup>\n",
      "</td>]\n",
      "<td><span style=\"white-space:nowrap;\"><a href=\"/wiki/Richard_Hatch\" title=\"Richard Hatch\"><img alt=\"S1 richard t\" class=\"lazyload\" data-image-key=\"S1_richard_t.png\" data-image-name=\"S1 richard t.png\" data-relevant=\"0\" data-src=\"https://static.wikia.nocookie.net/survivor/images/2/2f/S1_richard_t.png/revision/latest/scale-to-width-down/60?cb=20180525202231\" decoding=\"async\" height=\"60\" loading=\"lazy\" src=\"data:image/gif;base64,R0lGODlhAQABAIABAAAAAP///yH5BAEAAAEALAAAAAABAAEAQAICTAEAOw%3D%3D\" width=\"60\"/></a><br/><a href=\"/wiki/Richard_Hatch\" title=\"Richard Hatch\">Richard Hatch</a></span>\n",
      "</td>\n",
      "('Survivor: Borneo', 'https://survivor.fandom.com/wiki/Survivor:_Borneo', 'Richard Hatch')\n"
     ]
    }
   ],
   "source": [
    "for row in table.find_all(\"tr\")[1:2]:\n",
    "    cells = row.find_all(\"td\")\n",
    "    print(cells)\n",
    "    \n",
    "    if cells:  # Check if there are cells in the row to avoid processing header/empty rows\n",
    "        # Extract the season's Wikipedia link and title\n",
    "        season_link_tag = cells[0].find(\"a\")\n",
    "        season_link = \"https://survivor.fandom.com\" + season_link_tag.get(\"href\")\n",
    "        season_title = season_link_tag.get(\"title\")\n",
    "        \n",
    "        # Extract the Sole Survivor's name\n",
    "        sole_survivor = cells[6].find(\"a\")['title']\n",
    "        \n",
    "        # Append the extracted information to the list\n",
    "        print(cells[6])\n",
    "        print((season_title, season_link, sole_survivor))\n",
    "        extracted_data.append((season_title, season_link, sole_survivor))"
   ]
  }
 ],
 "metadata": {
  "kernelspec": {
   "display_name": "Python 3",
   "language": "python",
   "name": "python3"
  },
  "language_info": {
   "codemirror_mode": {
    "name": "ipython",
    "version": 3
   },
   "file_extension": ".py",
   "mimetype": "text/x-python",
   "name": "python",
   "nbconvert_exporter": "python",
   "pygments_lexer": "ipython3",
   "version": "3.12.2"
  }
 },
 "nbformat": 4,
 "nbformat_minor": 2
}
