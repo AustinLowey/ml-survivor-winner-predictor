{
 "cells": [
  {
   "cell_type": "code",
   "execution_count": 2,
   "metadata": {},
   "outputs": [],
   "source": [
    "import pandas as pd"
   ]
  },
  {
   "cell_type": "code",
   "execution_count": 3,
   "metadata": {},
   "outputs": [],
   "source": [
    "### Post-Episode 4 data ###\n",
    "days_lasted = 9\n",
    "\n",
    "rows = [\n",
    "    ['Ben', 0, 7, 6, 4/9, 3.5],\n",
    "    ['Charlie', 0, 9, 8, 4/9, 4.25],\n",
    "    ['Hunter', 0, 7, 8, 6/9, 1.5],\n",
    "    ['Jem', 0, 7, 8, 4/9, 3.25],\n",
    "    ['Kenzie', 0, 8, 4, 1/9, 7.0],\n",
    "    ['Liz', 0, 4, 4, 6/9, 2.25],\n",
    "    ['Maria', 0, 8, 8, 4/9, 2.25],\n",
    "    ['Moriah', 0, 4, 5, 4/9, 2.50],\n",
    "    ['Q', 0, 6, 7, 1/9, 5.25],\n",
    "    ['Soda', 0, 5, 6, 6/9, 2.75],\n",
    "    ['Tevin', 0, 9, 7, 6/9, 3.25],\n",
    "    ['Tiff', 1, 8, 7, 1/9, 7.0],\n",
    "    ['Tim', 0, 3, 4, 4/9, 1.50],\n",
    "    ['Venus', 0, 1, 4, 6/9, 3.25]\n",
    "]\n",
    "\n",
    "columns = [\n",
    "    'contestant_name',\n",
    "    'num_idols_possessed',\n",
    "    'social_score',\n",
    "    'strategy_score',\n",
    "    'challenge_wins_per_day_lasted',\n",
    "    \"confessionals_per_epi\"\n",
    "]\n",
    "\n",
    "df = pd.DataFrame(rows, columns=columns)"
   ]
  },
  {
   "cell_type": "code",
   "execution_count": 27,
   "metadata": {},
   "outputs": [],
   "source": [
    "df.to_csv(\"season46_week4.csv\")"
   ]
  },
  {
   "cell_type": "code",
   "execution_count": 4,
   "metadata": {},
   "outputs": [],
   "source": [
    "from joblib import load\n",
    "model = load('../src/models/trained/v2_random_forest/model.joblib')"
   ]
  },
  {
   "cell_type": "code",
   "execution_count": 5,
   "metadata": {},
   "outputs": [],
   "source": [
    "aux_data = df[['contestant_name']]\n",
    "features_df = df.drop(['contestant_name'], axis=1)"
   ]
  },
  {
   "cell_type": "code",
   "execution_count": 6,
   "metadata": {},
   "outputs": [
    {
     "name": "stderr",
     "output_type": "stream",
     "text": [
      "C:\\Users\\alowe\\AppData\\Local\\Temp\\ipykernel_39572\\3539426470.py:2: SettingWithCopyWarning: \n",
      "A value is trying to be set on a copy of a slice from a DataFrame.\n",
      "Try using .loc[row_indexer,col_indexer] = value instead\n",
      "\n",
      "See the caveats in the documentation: https://pandas.pydata.org/pandas-docs/stable/user_guide/indexing.html#returning-a-view-versus-a-copy\n",
      "  aux_data['predictions'] = predictions\n"
     ]
    }
   ],
   "source": [
    "predictions = model.predict(features_df)\n",
    "aux_data['predictions'] = predictions"
   ]
  },
  {
   "cell_type": "code",
   "execution_count": 7,
   "metadata": {},
   "outputs": [
    {
     "name": "stderr",
     "output_type": "stream",
     "text": [
      "C:\\Users\\alowe\\AppData\\Local\\Temp\\ipykernel_39572\\441145660.py:1: SettingWithCopyWarning: \n",
      "A value is trying to be set on a copy of a slice from a DataFrame.\n",
      "Try using .loc[row_indexer,col_indexer] = value instead\n",
      "\n",
      "See the caveats in the documentation: https://pandas.pydata.org/pandas-docs/stable/user_guide/indexing.html#returning-a-view-versus-a-copy\n",
      "  aux_data['predicted_rank'] = aux_data['predictions'].rank(ascending=False, method='dense').astype(int)\n"
     ]
    }
   ],
   "source": [
    "aux_data['predicted_rank'] = aux_data['predictions'].rank(ascending=False, method='dense').astype(int)"
   ]
  },
  {
   "cell_type": "code",
   "execution_count": 8,
   "metadata": {},
   "outputs": [
    {
     "data": {
      "text/html": [
       "<div>\n",
       "<style scoped>\n",
       "    .dataframe tbody tr th:only-of-type {\n",
       "        vertical-align: middle;\n",
       "    }\n",
       "\n",
       "    .dataframe tbody tr th {\n",
       "        vertical-align: top;\n",
       "    }\n",
       "\n",
       "    .dataframe thead th {\n",
       "        text-align: right;\n",
       "    }\n",
       "</style>\n",
       "<table border=\"1\" class=\"dataframe\">\n",
       "  <thead>\n",
       "    <tr style=\"text-align: right;\">\n",
       "      <th></th>\n",
       "      <th>contestant_name</th>\n",
       "      <th>predicted_rank</th>\n",
       "    </tr>\n",
       "  </thead>\n",
       "  <tbody>\n",
       "    <tr>\n",
       "      <th>11</th>\n",
       "      <td>Tiff</td>\n",
       "      <td>1</td>\n",
       "    </tr>\n",
       "    <tr>\n",
       "      <th>8</th>\n",
       "      <td>Q</td>\n",
       "      <td>2</td>\n",
       "    </tr>\n",
       "    <tr>\n",
       "      <th>1</th>\n",
       "      <td>Charlie</td>\n",
       "      <td>3</td>\n",
       "    </tr>\n",
       "    <tr>\n",
       "      <th>10</th>\n",
       "      <td>Tevin</td>\n",
       "      <td>4</td>\n",
       "    </tr>\n",
       "    <tr>\n",
       "      <th>4</th>\n",
       "      <td>Kenzie</td>\n",
       "      <td>5</td>\n",
       "    </tr>\n",
       "    <tr>\n",
       "      <th>6</th>\n",
       "      <td>Maria</td>\n",
       "      <td>6</td>\n",
       "    </tr>\n",
       "    <tr>\n",
       "      <th>3</th>\n",
       "      <td>Jem</td>\n",
       "      <td>7</td>\n",
       "    </tr>\n",
       "    <tr>\n",
       "      <th>0</th>\n",
       "      <td>Ben</td>\n",
       "      <td>8</td>\n",
       "    </tr>\n",
       "    <tr>\n",
       "      <th>9</th>\n",
       "      <td>Soda</td>\n",
       "      <td>9</td>\n",
       "    </tr>\n",
       "    <tr>\n",
       "      <th>2</th>\n",
       "      <td>Hunter</td>\n",
       "      <td>10</td>\n",
       "    </tr>\n",
       "    <tr>\n",
       "      <th>7</th>\n",
       "      <td>Moriah</td>\n",
       "      <td>11</td>\n",
       "    </tr>\n",
       "    <tr>\n",
       "      <th>5</th>\n",
       "      <td>Liz</td>\n",
       "      <td>12</td>\n",
       "    </tr>\n",
       "    <tr>\n",
       "      <th>12</th>\n",
       "      <td>Tim</td>\n",
       "      <td>13</td>\n",
       "    </tr>\n",
       "    <tr>\n",
       "      <th>13</th>\n",
       "      <td>Venus</td>\n",
       "      <td>14</td>\n",
       "    </tr>\n",
       "  </tbody>\n",
       "</table>\n",
       "</div>"
      ],
      "text/plain": [
       "   contestant_name  predicted_rank\n",
       "11            Tiff               1\n",
       "8                Q               2\n",
       "1          Charlie               3\n",
       "10           Tevin               4\n",
       "4           Kenzie               5\n",
       "6            Maria               6\n",
       "3              Jem               7\n",
       "0              Ben               8\n",
       "9             Soda               9\n",
       "2           Hunter              10\n",
       "7           Moriah              11\n",
       "5              Liz              12\n",
       "12             Tim              13\n",
       "13           Venus              14"
      ]
     },
     "execution_count": 8,
     "metadata": {},
     "output_type": "execute_result"
    }
   ],
   "source": [
    "aux_data[['contestant_name', 'predicted_rank']].sort_values(by='predicted_rank')"
   ]
  },
  {
   "cell_type": "code",
   "execution_count": 12,
   "metadata": {},
   "outputs": [],
   "source": [
    "aux_data.to_csv(\"../data/current_season/season46_week4_predictions.csv\")"
   ]
  }
 ],
 "metadata": {
  "kernelspec": {
   "display_name": "Python 3",
   "language": "python",
   "name": "python3"
  },
  "language_info": {
   "codemirror_mode": {
    "name": "ipython",
    "version": 3
   },
   "file_extension": ".py",
   "mimetype": "text/x-python",
   "name": "python",
   "nbconvert_exporter": "python",
   "pygments_lexer": "ipython3",
   "version": "3.12.2"
  }
 },
 "nbformat": 4,
 "nbformat_minor": 2
}
