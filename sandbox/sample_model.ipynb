{
 "cells": [
  {
   "cell_type": "code",
   "execution_count": 1,
   "metadata": {},
   "outputs": [],
   "source": [
    "import pandas as pd"
   ]
  },
  {
   "cell_type": "code",
   "execution_count": null,
   "metadata": {},
   "outputs": [],
   "source": [
    "# Season 45\n",
    "season = 45\n",
    "name = ['Dee', 'Austin', 'Jake', 'Katurah', 'Julie']\n",
    "conf_per_epi = [5.2, 5.5, 4.5, 5.1, 3.5]\n",
    "num_idols = [0, 2, 0, 0, 1]\n",
    "season_rank = [1, 2, 3, 4, 5]\n",
    "challenge_wins = [9, 10, 5, 5, 8]\n",
    "strategy_and_social_strength = [9, 7.5, 4.5, 4.5, 7]\n",
    "ranking = []"
   ]
  },
  {
   "cell_type": "code",
   "execution_count": null,
   "metadata": {},
   "outputs": [],
   "source": [
    "# Season 16\n",
    "season = 16\n",
    "name = ['Parvati', 'Amanda', 'Cirie', 'Natalie', 'Erik']\n",
    "conf_per_epi = [2.3, 2.4, 3.7, 1.2, 3]\n",
    "num_idols = [0, 1, 0, 0, 0]\n",
    "season_rank = [1, 2, 3, 4, 5]\n",
    "challenge_wins = [11, 8, 5, 8, 12]\n",
    "strategy_and_social_strength = [9.5, 8, 8.5, 7.5, 6]\n",
    "ranking = []"
   ]
  }
 ],
 "metadata": {
  "kernelspec": {
   "display_name": "Python 3",
   "language": "python",
   "name": "python3"
  },
  "language_info": {
   "codemirror_mode": {
    "name": "ipython",
    "version": 3
   },
   "file_extension": ".py",
   "mimetype": "text/x-python",
   "name": "python",
   "nbconvert_exporter": "python",
   "pygments_lexer": "ipython3",
   "version": "3.12.2"
  }
 },
 "nbformat": 4,
 "nbformat_minor": 2
}
